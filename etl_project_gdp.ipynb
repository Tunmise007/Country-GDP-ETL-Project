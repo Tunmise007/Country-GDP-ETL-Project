{
 "cells": [
  {
   "cell_type": "code",
   "execution_count": 1,
   "id": "99eb0bf5-6a65-441e-8a20-99ba1a2c8aee",
   "metadata": {},
   "outputs": [],
   "source": [
    "import requests\n",
    "import sqlite3\n",
    "import pandas as pd\n",
    "import numpy as np\n",
    "from bs4 import BeautifulSoup\n",
    "from datetime import datetime"
   ]
  },
  {
   "cell_type": "code",
   "execution_count": 2,
   "id": "80579f36-ba08-4912-bec9-693062412aec",
   "metadata": {},
   "outputs": [],
   "source": [
    "#Scarpping the data\n",
    "def extract(url, table_attribs):\n",
    "    ''' The purpose of this function is to extract the required\n",
    "    information from the website and save it to a dataframe. The\n",
    "    function returns the dataframe for further processing. '''\n",
    "    \n",
    "    html_page = requests.get(url).text\n",
    "    HTML_object = BeautifulSoup(html_page, 'html.parser')\n",
    "    df = pd.DataFrame(columns = table_attribs)\n",
    "\n",
    "    #Scrapping of required information\n",
    "    tables = HTML_object.find_all('tbody')\n",
    "    rows = tables[2].find_all('tr')\n",
    "    for row in rows:\n",
    "        col = row.find_all('td')\n",
    "        if len(col)!=0:\n",
    "            if col[0].find('a') is not None and '—' not in col[2]:\n",
    "                data_dict = {\"Country\": col[0].a.contents[0],\n",
    "                             \"GDP_USD_millions\": col[2].contents[0]}\n",
    "                df1 = pd.DataFrame(data_dict, index=[0])\n",
    "                df = pd.concat([df,df1], ignore_index=True)\n",
    "    return df"
   ]
  },
  {
   "cell_type": "code",
   "execution_count": 3,
   "id": "893a7375-608d-4007-b8a7-1aefef931043",
   "metadata": {},
   "outputs": [],
   "source": [
    "# Transforming the data\n",
    "def transform(df):\n",
    "    ''' This function converts the GDP information from Currency\n",
    "    format to float value, transforms the information of GDP from\n",
    "    USD (Millions) to USD (Billions) rounding to 2 decimal places.\n",
    "    The function returns the transformed dataframe.'''\n",
    "    \n",
    "    df[\"GDP_USD_millions\"] = df[\"GDP_USD_millions\"].str.replace(',', '').str.strip('')\n",
    "    df[\"GDP_USD_millions\"] = df[\"GDP_USD_millions\"].astype(float)\n",
    "    df[\"GDP_USD_millions\"] = df[\"GDP_USD_millions\"].div(100).round(2)\n",
    "    df.rename(columns = {'GDP_USD_millions':'GDP_USD_billions'}, inplace = True)\n",
    "    return df"
   ]
  },
  {
   "cell_type": "code",
   "execution_count": 4,
   "id": "e04d02cb-4ab8-42e6-affd-b9f241726e57",
   "metadata": {},
   "outputs": [],
   "source": [
    "# Loading the transformed data into a CSV file\n",
    "def load_to_csv(df, csv_path): \n",
    "    ''' This function saves the final dataframe as a `CSV` file \n",
    "    in the provided path. Function returns nothing.'''\n",
    "    \n",
    "    df.to_csv(csv_path)"
   ]
  },
  {
   "cell_type": "code",
   "execution_count": 5,
   "id": "e5fe9f8d-bca5-487c-a36d-fbb581759729",
   "metadata": {},
   "outputs": [],
   "source": [
    "#save data in a database\n",
    "def load_to_db(df, sql_connection, table_name):\n",
    "    ''' This function saves the final dataframe to as a database table\n",
    "    with the provided name. Function returns nothing.'''\n",
    "    \n",
    "    df.to_sql(table_name, sql_connection, if_exists='replace', index=False)"
   ]
  },
  {
   "cell_type": "code",
   "execution_count": 6,
   "id": "83863cfd-0d00-4eed-98d5-f72eaeba7ce0",
   "metadata": {},
   "outputs": [],
   "source": [
    "#Querying the database table\n",
    "def run_query(query_statement, sql_connection):\n",
    "    ''' This function runs the stated query on the database table and\n",
    "    prints the output on the terminal. Function returns nothing. '''\n",
    "    \n",
    "    print(query_statement)\n",
    "    query_output = pd.read_sql(query_statement, sql_connection)\n",
    "    print(query_output)"
   ]
  },
  {
   "cell_type": "code",
   "execution_count": 7,
   "id": "1eeb7e0b-f494-4518-9230-f0dd40a1d7e1",
   "metadata": {},
   "outputs": [],
   "source": [
    "#Logging progress\n",
    "def log_progress(message):\n",
    "    ''' This function logs the mentioned message at a given stage of the \n",
    "    code execution to a log file. Function returns nothing.'''\n",
    "    \n",
    "    timestamp_format = '%Y-%h-%d-%H:%M:%S' # Year-Monthname-Day-Hour-Minute-Second \n",
    "    now = datetime.now() # get current timestamp \n",
    "    timestamp = now.strftime(timestamp_format) \n",
    "    with open(\"etl_project_log.txt\",\"a\") as f: \n",
    "        f.write(timestamp + ' : ' + message + '\\n')"
   ]
  },
  {
   "cell_type": "code",
   "execution_count": 8,
   "id": "c028b9bf-570c-4051-8241-c48048bf97c2",
   "metadata": {},
   "outputs": [
    {
     "name": "stdout",
     "output_type": "stream",
     "text": [
      "SELECT * from Countries_by_GDP WHERE GDP_USD_billions >= 100\n",
      "           Country  GDP_USD_billions\n",
      "0    United States         268545.99\n",
      "1            China         193735.86\n",
      "2            Japan          44097.38\n",
      "3          Germany          43088.54\n",
      "4            India          37368.82\n",
      "..             ...               ...\n",
      "141     Tajikistan            127.96\n",
      "142     Kyrgyzstan            123.09\n",
      "143           Chad            119.62\n",
      "144         Malawi            112.77\n",
      "145     Mauritania            109.66\n",
      "\n",
      "[146 rows x 2 columns]\n"
     ]
    }
   ],
   "source": [
    "''' Here, you define the required entities and call the relevant \n",
    "functions in the correct order to complete the project. Note that this\n",
    "portion is not inside any function.'''\n",
    "\n",
    "url = 'https://web.archive.org/web/20230902185326/https://en.wikipedia.org/wiki/List_of_countries_by_GDP_%28nominal%29'\n",
    "table_attribs = [\"Country\",\"GDP_USD_millions\"]\n",
    "db_name = 'World_Economies.db'\n",
    "table_name = 'Countries_by_GDP'\n",
    "csv_path = 'Countries_by_GDP.csv'\n",
    "\n",
    "log_progress('Preliminaries complete. Initiating ETL process')\n",
    "\n",
    "df = extract(url, table_attribs)\n",
    "\n",
    "log_progress('Data extraction complete. Initiating Transformation process')\n",
    "\n",
    "df = transform(df)\n",
    "\n",
    "log_progress('Data transformation complete. Initiating loading process')\n",
    "\n",
    "load_to_csv(df, csv_path)\n",
    "\n",
    "log_progress('Data saved to CSV file')\n",
    "\n",
    "sql_connection = sqlite3.connect('World_Economies.db')\n",
    "\n",
    "log_progress('SQL Connection initiated.')\n",
    "\n",
    "load_to_db(df, sql_connection, table_name)\n",
    "\n",
    "log_progress('Data loaded to Database as table. Running the query')\n",
    "\n",
    "query_statement = f\"SELECT * from {table_name} WHERE GDP_USD_billions >= 100\"\n",
    "run_query(query_statement, sql_connection)\n",
    "\n",
    "log_progress('Process Complete.')\n",
    "\n",
    "sql_connection.close()"
   ]
  },
  {
   "cell_type": "code",
   "execution_count": null,
   "id": "3ec380c0-9bc9-43fd-8da6-4a9a50d4d4b1",
   "metadata": {},
   "outputs": [],
   "source": []
  }
 ],
 "metadata": {
  "kernelspec": {
   "display_name": "Python 3 (ipykernel)",
   "language": "python",
   "name": "python3"
  },
  "language_info": {
   "codemirror_mode": {
    "name": "ipython",
    "version": 3
   },
   "file_extension": ".py",
   "mimetype": "text/x-python",
   "name": "python",
   "nbconvert_exporter": "python",
   "pygments_lexer": "ipython3",
   "version": "3.9.12"
  }
 },
 "nbformat": 4,
 "nbformat_minor": 5
}
